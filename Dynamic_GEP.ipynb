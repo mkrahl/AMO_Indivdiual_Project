{
 "cells": [
  {
   "cell_type": "code",
   "execution_count": 1,
   "metadata": {},
   "outputs": [
    {
     "name": "stderr",
     "output_type": "stream",
     "text": [
      "\u001b[32m\u001b[1m  Activating\u001b[22m\u001b[39m project at `c:\\Users\\Herbert\\Documents\\GitHub\\AMO_Indivdiual_Project`\n"
     ]
    }
   ],
   "source": [
    "# Activate project enviroment \n",
    "using Pkg\n",
    "Pkg.activate(\".\")\n",
    "Pkg.instantiate()"
   ]
  },
  {
   "cell_type": "code",
   "execution_count": 2,
   "metadata": {},
   "outputs": [],
   "source": [
    "using JuMP\n",
    "using Plots\n",
    "using XLSX\n",
    "using DataFrames\n",
    "using Complementarity\n",
    "using Ipopt\n",
    "using Distributions\n",
    "using CSV\n",
    "using HiGHS\n",
    "using StatsPlots"
   ]
  },
  {
   "attachments": {},
   "cell_type": "markdown",
   "metadata": {},
   "source": [
    "## Deterministic single-node dynamic GEP"
   ]
  },
  {
   "cell_type": "code",
   "execution_count": 3,
   "metadata": {},
   "outputs": [
    {
     "data": {
      "text/html": [
       "<div><div style = \"float: left;\"><span>4×2 DataFrame</span></div><div style = \"clear: both;\"></div></div><div class = \"data-frame\" style = \"overflow-x: scroll;\"><table class = \"data-frame\" style = \"margin-bottom: 6px;\"><thead><tr class = \"header\"><th class = \"rowNumber\" style = \"font-weight: bold; text-align: right;\">Row</th><th style = \"text-align: left;\">powerlevel</th><th style = \"text-align: left;\">weight</th></tr><tr class = \"subheader headerLastRow\"><th class = \"rowNumber\" style = \"font-weight: bold; text-align: right;\"></th><th title = \"Float64\" style = \"text-align: left;\">Float64</th><th title = \"Float64\" style = \"text-align: left;\">Float64</th></tr></thead><tbody><tr><td class = \"rowNumber\" style = \"font-weight: bold; text-align: right;\">1</td><td style = \"text-align: right;\">0.77741</td><td style = \"text-align: right;\">0.244064</td></tr><tr><td class = \"rowNumber\" style = \"font-weight: bold; text-align: right;\">2</td><td style = \"text-align: right;\">0.932355</td><td style = \"text-align: right;\">0.280023</td></tr><tr><td class = \"rowNumber\" style = \"font-weight: bold; text-align: right;\">3</td><td style = \"text-align: right;\">1.09936</td><td style = \"text-align: right;\">0.313242</td></tr><tr><td class = \"rowNumber\" style = \"font-weight: bold; text-align: right;\">4</td><td style = \"text-align: right;\">1.25909</td><td style = \"text-align: right;\">0.162671</td></tr></tbody></table></div>"
      ],
      "text/latex": [
       "\\begin{tabular}{r|cc}\n",
       "\t& powerlevel & weight\\\\\n",
       "\t\\hline\n",
       "\t& Float64 & Float64\\\\\n",
       "\t\\hline\n",
       "\t1 & 0.77741 & 0.244064 \\\\\n",
       "\t2 & 0.932355 & 0.280023 \\\\\n",
       "\t3 & 1.09936 & 0.313242 \\\\\n",
       "\t4 & 1.25909 & 0.162671 \\\\\n",
       "\\end{tabular}\n"
      ],
      "text/plain": [
       "\u001b[1m4×2 DataFrame\u001b[0m\n",
       "\u001b[1m Row \u001b[0m│\u001b[1m powerlevel \u001b[0m\u001b[1m weight   \u001b[0m\n",
       "     │\u001b[90m Float64    \u001b[0m\u001b[90m Float64  \u001b[0m\n",
       "─────┼──────────────────────\n",
       "   1 │   0.77741   0.244064\n",
       "   2 │   0.932355  0.280023\n",
       "   3 │   1.09936   0.313242\n",
       "   4 │   1.25909   0.162671"
      ]
     },
     "execution_count": 3,
     "metadata": {},
     "output_type": "execute_result"
    }
   ],
   "source": [
    "#Read in demand options for target year (Output of Clustering.ipynb) and sort by powerlevel (ascending)\n",
    "options = sort!(CSV.read(\"./data/options.csv\", DataFrame),:powerlevel)"
   ]
  },
  {
   "cell_type": "code",
   "execution_count": 39,
   "metadata": {},
   "outputs": [
    {
     "data": {
      "text/plain": [
       "4-element Vector{Int64}:\n",
       " 2138\n",
       " 2453\n",
       " 2744\n",
       " 1425"
      ]
     },
     "execution_count": 39,
     "metadata": {},
     "output_type": "execute_result"
    }
   ],
   "source": [
    "# Indexes\n",
    "G = 1:12 # Existing generators\n",
    "C = 1:5 # Candidate generators\n",
    "D = 1:1 # Demands (sum of all Loads, because single node Model)\n",
    "O = 1:4 # Options\n",
    "Q = 1:7 # Number of steps for installable capacity. (Same for each candidate)\n",
    "T = 1:4 # Time steps where new Capacity can be installed\n",
    "\n",
    "[2,2,2,2,2,1]\n",
    "\n",
    "# Parameters\n",
    "Ic = [600_000, 700_000, 400_000, 1_200_000, 950_000] #Total Investment cost per installed MW for each candidate\n",
    "a = [0.15,0.1,0.5,0.03] # amortization rates for each timestep\n",
    "pd = sum([84,75,139,58,55,106,97,132,135,150,205,150,245,77,258,141,100]) .* options.powerlevel # demand for each option\n",
    "Emax = [106.4,106.4,245,413.7,42,108.5,108.5,280,280,210,217,245] # existing generator maximium capacity\n",
    "Ec = [13.32,13.32,20.7,20.93,26.11,10.52,10.52,6.02,5.47,7,10.52,10.89] # existing Generator Energy cost\n",
    "CandiData = [0.0 30.0 60.0 90.0 120.0 150.0 180.0  # Possible Capacity installation levels for each candidate\n",
    "             0.0 30.0 60.0 90.0 120.0 150.0 180.0\n",
    "             0.0 40.0 80.0 120.0 160.0 200.0 240.0\n",
    "             0.0 40.0 80.0 120.0 160.0 200.0 240.0\n",
    "             0.0 50.0 100.0 150.0 200.0 250.0 300.0]\n",
    "Cc = [11.7,10.4,13.2,8.7,9.5] # operating cost per MW for candidates\n",
    "vLOL = 500 # value of lost load\n",
    "wp = sum([120.54,115.52,53.34,38.16]) # wind power (no cost)\n",
    "\n",
    "ρ = Integer.(round.(options.weight .* 8760)) # = [2744,1425,2453,2138] -> hours in a year for each option\n",
    "\n",
    "M = 1_000_000 # Big M \n",
    "\n",
    "# one last thing - we consider the demands as historical data, but demand in the future will grow. So, we will increase the demand options by a percentage for each year at each timestep.\n",
    "# Our planning horzion is 20 years. To get realistic average annual increase in demand,\n",
    "# we use historical data of the yearly demand from 2015 to 2018 in Germany source: https://www.smard.de/home/downloadcenter/download-marktdaten/.\n",
    "\n",
    "yearly_demands = [500219502.50, 503083631.75, 505674706.50 ,509156603.75] \n",
    "annual_increase = mean([yearly_demands[i+1]/yearly_demands[i] for i in 1:3]) # calculate the mean of the relative annual changes from 2015-2018\n",
    "increases = [annual_increase^5,annual_increase^10,annual_increase^15,annual_increase^20] #get increase factor for each timestep\n",
    "pd = [round.(pd.*increases[i],digits = 1) for i in T] # multiply demands by expected increase factors for 5,10,15 and 20 years.\n",
    "ρ"
   ]
  },
  {
   "cell_type": "code",
   "execution_count": 40,
   "metadata": {},
   "outputs": [
    {
     "data": {
      "text/latex": [
       "$$ 28478.16 pge_{1,1,1} + 28478.16 pge_{2,1,1} + 44256.6 pge_{3,1,1} + 44748.34 pge_{4,1,1} + 55823.18 pge_{5,1,1} + 22491.76 pge_{6,1,1} + 22491.76 pge_{7,1,1} + 12870.759999999998 pge_{8,1,1} + 11694.859999999999 pge_{9,1,1} + 14966 pge_{10,1,1} + 22491.76 pge_{11,1,1} + 23282.82 pge_{12,1,1} + 25014.6 pgc_{1,1,1} + 22235.2 pgc_{2,1,1} + 28221.6 pgc_{3,1,1} + 18600.6 pgc_{4,1,1} + 20311 pgc_{5,1,1} + 1069000 Lshed_{1,1} + 32673.96 pge_{1,2,1} + 32673.96 pge_{2,2,1} + 50777.1 pge_{3,2,1} + 51341.29 pge_{4,2,1} + 64047.83 pge_{5,2,1} + 25805.559999999998 pge_{6,2,1} + 25805.559999999998 pge_{7,2,1} + 14767.06 pge_{8,2,1} + 13417.91 pge_{9,2,1} + 17171 pge_{10,2,1} + 25805.559999999998 pge_{11,2,1} + 26713.170000000002 pge_{12,2,1} + 28700.1 pgc_{1,2,1} + 25511.2 pgc_{2,2,1} + 32379.6 pgc_{3,2,1} + 21341.1 pgc_{4,2,1} + 23303.5 pgc_{5,2,1} + 1226500 Lshed_{2,1} + 36550.08 pge_{1,3,1} + 36550.08 pge_{2,3,1} + 56800.799999999996 pge_{3,3,1} + 57431.92 pge_{4,3,1} + 71645.84 pge_{5,3,1} + 28866.879999999997 pge_{6,3,1} + 28866.879999999997 pge_{7,3,1} + 16518.879999999997 pge_{8,3,1} + 15009.679999999998 pge_{9,3,1} + 19208 pge_{10,3,1} + 28866.879999999997 pge_{11,3,1} + 29882.16 pge_{12,3,1} + 32104.8 pgc_{1,3,1} + 28537.600000000002 pgc_{2,3,1} + 36220.799999999996 pgc_{3,3,1} + 23872.8 pgc_{4,3,1} + 26068 pgc_{5,3,1} + 1372000 Lshed_{3,1} + 18981 pge_{1,4,1} + 18981 pge_{2,4,1} + 29497.5 pge_{3,4,1} + 29825.25 pge_{4,4,1} + 37206.75 pge_{5,4,1} + 14991 pge_{6,4,1} + 14991 pge_{7,4,1} + 8578.5 pge_{8,4,1} + 7794.75 pge_{9,4,1} + 9975 pge_{10,4,1} + 14991 pge_{11,4,1} + 15518.25 pge_{12,4,1} + 16672.5 pgc_{1,4,1} + 14820 pgc_{2,4,1} + 18810 pgc_{3,4,1} + 12397.499999999998 pgc_{4,4,1} + 13537.5 pgc_{5,4,1} + 712500 Lshed_{4,1} + 90000 pcmax_{1,1} + 105000 pcmax_{2,1} + 60000 pcmax_{3,1} + 180000 pcmax_{4,1} + 142500 pcmax_{5,1} + 28478.16 pge_{1,1,2} + 28478.16 pge_{2,1,2} + 44256.6 pge_{3,1,2} + 44748.34 pge_{4,1,2} + 55823.18 pge_{5,1,2} + 22491.76 pge_{6,1,2} + 22491.76 pge_{7,1,2} + 12870.759999999998 pge_{8,1,2} + 11694.859999999999 pge_{9,1,2} + 14966 pge_{10,1,2} + 22491.76 pge_{11,1,2} + 23282.82 pge_{12,1,2} + 25014.6 pgc_{1,1,2} + 22235.2 pgc_{2,1,2} + 28221.6 pgc_{3,1,2} + 18600.6 pgc_{4,1,2} + 20311 pgc_{5,1,2} + 1069000 Lshed_{1,2} + 32673.96 pge_{1,2,2} + 32673.96 pge_{2,2,2} + 50777.1 pge_{3,2,2} + 51341.29 pge_{4,2,2} + 64047.83 pge_{5,2,2} + 25805.559999999998 pge_{6,2,2} + 25805.559999999998 pge_{7,2,2} + 14767.06 pge_{8,2,2} + 13417.91 pge_{9,2,2} + 17171 pge_{10,2,2} + 25805.559999999998 pge_{11,2,2} + 26713.170000000002 pge_{12,2,2} + 28700.1 pgc_{1,2,2} + 25511.2 pgc_{2,2,2} + 32379.6 pgc_{3,2,2} + 21341.1 pgc_{4,2,2} + 23303.5 pgc_{5,2,2} + 1226500 Lshed_{2,2} + 36550.08 pge_{1,3,2} + 36550.08 pge_{2,3,2} + 56800.799999999996 pge_{3,3,2} + 57431.92 pge_{4,3,2} + 71645.84 pge_{5,3,2} + 28866.879999999997 pge_{6,3,2} + 28866.879999999997 pge_{7,3,2} + 16518.879999999997 pge_{8,3,2} + 15009.679999999998 pge_{9,3,2} + 19208 pge_{10,3,2} + 28866.879999999997 pge_{11,3,2} + 29882.16 pge_{12,3,2} + 32104.8 pgc_{1,3,2} + 28537.600000000002 pgc_{2,3,2} + 36220.799999999996 pgc_{3,3,2} + 23872.8 pgc_{4,3,2} + 26068 pgc_{5,3,2} + 1372000 Lshed_{3,2} + 18981 pge_{1,4,2} + 18981 pge_{2,4,2} + 29497.5 pge_{3,4,2} + 29825.25 pge_{4,4,2} + 37206.75 pge_{5,4,2} + 14991 pge_{6,4,2} + 14991 pge_{7,4,2} + 8578.5 pge_{8,4,2} + 7794.75 pge_{9,4,2} + 9975 pge_{10,4,2} + 14991 pge_{11,4,2} + 15518.25 pge_{12,4,2} + 16672.5 pgc_{1,4,2} + 14820 pgc_{2,4,2} + 18810 pgc_{3,4,2} + 12397.499999999998 pgc_{4,4,2} + 13537.5 pgc_{5,4,2} + 712500 Lshed_{4,2} + 60000 pcmax_{1,2} + 70000 pcmax_{2,2} + 40000 pcmax_{3,2} + 120000 pcmax_{4,2} + 95000 pcmax_{5,2} + 28478.16 pge_{1,1,3} + 28478.16 pge_{2,1,3} + 44256.6 pge_{3,1,3} + 44748.34 pge_{4,1,3} + 55823.18 pge_{5,1,3} + 22491.76 pge_{6,1,3} + 22491.76 pge_{7,1,3} + 12870.759999999998 pge_{8,1,3} + 11694.859999999999 pge_{9,1,3} + 14966 pge_{10,1,3} + 22491.76 pge_{11,1,3} + 23282.82 pge_{12,1,3} + 25014.6 pgc_{1,1,3} + 22235.2 pgc_{2,1,3} + 28221.6 pgc_{3,1,3} + 18600.6 pgc_{4,1,3} + 20311 pgc_{5,1,3} + 1069000 Lshed_{1,3} + 32673.96 pge_{1,2,3} + 32673.96 pge_{2,2,3} + 50777.1 pge_{3,2,3} + 51341.29 pge_{4,2,3} + 64047.83 pge_{5,2,3} + 25805.559999999998 pge_{6,2,3} + 25805.559999999998 pge_{7,2,3} + 14767.06 pge_{8,2,3} + 13417.91 pge_{9,2,3} + 17171 pge_{10,2,3} + 25805.559999999998 pge_{11,2,3} + 26713.170000000002 pge_{12,2,3} + 28700.1 pgc_{1,2,3} + 25511.2 pgc_{2,2,3} + 32379.6 pgc_{3,2,3} + 21341.1 pgc_{4,2,3} + 23303.5 pgc_{5,2,3} + 1226500 Lshed_{2,3} + 36550.08 pge_{1,3,3} + 36550.08 pge_{2,3,3} + 56800.799999999996 pge_{3,3,3} + 57431.92 pge_{4,3,3} + 71645.84 pge_{5,3,3} + 28866.879999999997 pge_{6,3,3} + 28866.879999999997 pge_{7,3,3} + 16518.879999999997 pge_{8,3,3} + 15009.679999999998 pge_{9,3,3} + 19208 pge_{10,3,3} + 28866.879999999997 pge_{11,3,3} + 29882.16 pge_{12,3,3} + 32104.8 pgc_{1,3,3} + 28537.600000000002 pgc_{2,3,3} + 36220.799999999996 pgc_{3,3,3} + 23872.8 pgc_{4,3,3} + 26068 pgc_{5,3,3} + 1372000 Lshed_{3,3} + 18981 pge_{1,4,3} + 18981 pge_{2,4,3} + 29497.5 pge_{3,4,3} + 29825.25 pge_{4,4,3} + 37206.75 pge_{5,4,3} + 14991 pge_{6,4,3} + 14991 pge_{7,4,3} + 8578.5 pge_{8,4,3} + 7794.75 pge_{9,4,3} + 9975 pge_{10,4,3} + 14991 pge_{11,4,3} + 15518.25 pge_{12,4,3} + 16672.5 pgc_{1,4,3} + 14820 pgc_{2,4,3} + 18810 pgc_{3,4,3} + 12397.499999999998 pgc_{4,4,3} + 13537.5 pgc_{5,4,3} + 712500 Lshed_{4,3} + 300000 pcmax_{1,3} + 350000 pcmax_{2,3} + 200000 pcmax_{3,3} + 600000 pcmax_{4,3} + 475000 pcmax_{5,3} + 28478.16 pge_{1,1,4} + 28478.16 pge_{2,1,4} + 44256.6 pge_{3,1,4} + 44748.34 pge_{4,1,4} + 55823.18 pge_{5,1,4} + 22491.76 pge_{6,1,4} + 22491.76 pge_{7,1,4} + 12870.759999999998 pge_{8,1,4} + 11694.859999999999 pge_{9,1,4} + 14966 pge_{10,1,4} + 22491.76 pge_{11,1,4} + 23282.82 pge_{12,1,4} + 25014.6 pgc_{1,1,4} + 22235.2 pgc_{2,1,4} + 28221.6 pgc_{3,1,4} + 18600.6 pgc_{4,1,4} + 20311 pgc_{5,1,4} + 1069000 Lshed_{1,4} + 32673.96 pge_{1,2,4} + 32673.96 pge_{2,2,4} + 50777.1 pge_{3,2,4} + 51341.29 pge_{4,2,4} + 64047.83 pge_{5,2,4} + 25805.559999999998 pge_{6,2,4} + 25805.559999999998 pge_{7,2,4} + 14767.06 pge_{8,2,4} + 13417.91 pge_{9,2,4} + 17171 pge_{10,2,4} + 25805.559999999998 pge_{11,2,4} + 26713.170000000002 pge_{12,2,4} + 28700.1 pgc_{1,2,4} + 25511.2 pgc_{2,2,4} + 32379.6 pgc_{3,2,4} + 21341.1 pgc_{4,2,4} + 23303.5 pgc_{5,2,4} + 1226500 Lshed_{2,4} + 36550.08 pge_{1,3,4} + 36550.08 pge_{2,3,4} + 56800.799999999996 pge_{3,3,4} + 57431.92 pge_{4,3,4} + 71645.84 pge_{5,3,4} + 28866.879999999997 pge_{6,3,4} + 28866.879999999997 pge_{7,3,4} + 16518.879999999997 pge_{8,3,4} + 15009.679999999998 pge_{9,3,4} + 19208 pge_{10,3,4} + 28866.879999999997 pge_{11,3,4} + 29882.16 pge_{12,3,4} + 32104.8 pgc_{1,3,4} + 28537.600000000002 pgc_{2,3,4} + 36220.799999999996 pgc_{3,3,4} + 23872.8 pgc_{4,3,4} + 26068 pgc_{5,3,4} + 1372000 Lshed_{3,4} + 18981 pge_{1,4,4} + 18981 pge_{2,4,4} + 29497.5 pge_{3,4,4} + 29825.25 pge_{4,4,4} + 37206.75 pge_{5,4,4} + 14991 pge_{6,4,4} + 14991 pge_{7,4,4} + 8578.5 pge_{8,4,4} + 7794.75 pge_{9,4,4} + 9975 pge_{10,4,4} + 14991 pge_{11,4,4} + 15518.25 pge_{12,4,4} + 16672.5 pgc_{1,4,4} + 14820 pgc_{2,4,4} + 18810 pgc_{3,4,4} + 12397.499999999998 pgc_{4,4,4} + 13537.5 pgc_{5,4,4} + 712500 Lshed_{4,4} + 18000 pcmax_{1,4} + 21000 pcmax_{2,4} + 12000 pcmax_{3,4} + 36000 pcmax_{4,4} + 28500 pcmax_{5,4} $$"
      ],
      "text/plain": [
       "28478.16 pge[1,1,1] + 28478.16 pge[2,1,1] + 44256.6 pge[3,1,1] + 44748.34 pge[4,1,1] + 55823.18 pge[5,1,1] + 22491.76 pge[6,1,1] + 22491.76 pge[7,1,1] + 12870.759999999998 pge[8,1,1] + 11694.859999999999 pge[9,1,1] + 14966 pge[10,1,1] + 22491.76 pge[11,1,1] + 23282.82 pge[12,1,1] + 25014.6 pgc[1,1,1] + 22235.2 pgc[2,1,1] + 28221.6 pgc[3,1,1] + 18600.6 pgc[4,1,1] + 20311 pgc[5,1,1] + 1069000 Lshed[1,1] + 32673.96 pge[1,2,1] + 32673.96 pge[2,2,1] + 50777.1 pge[3,2,1] + 51341.29 pge[4,2,1] + 64047.83 pge[5,2,1] + 25805.559999999998 pge[6,2,1] + 25805.559999999998 pge[7,2,1] + 14767.06 pge[8,2,1] + 13417.91 pge[9,2,1] + 17171 pge[10,2,1] + 25805.559999999998 pge[11,2,1] + 26713.170000000002 pge[12,2,1] + 28700.1 pgc[1,2,1] + 25511.2 pgc[2,2,1] + 32379.6 pgc[3,2,1] + 21341.1 pgc[4,2,1] + 23303.5 pgc[5,2,1] + 1226500 Lshed[2,1] + 36550.08 pge[1,3,1] + 36550.08 pge[2,3,1] + 56800.799999999996 pge[3,3,1] + 57431.92 pge[4,3,1] + 71645.84 pge[5,3,1] + 28866.879999999997 pge[6,3,1] + 28866.879999999997 pge[7,3,1] + 16518.879999999997 pge[8,3,1] + 15009.679999999998 pge[9,3,1] + 19208 pge[10,3,1] + 28866.879999999997 pge[11,3,1] + 29882.16 pge[12,3,1] + 32104.8 pgc[1,3,1] + 28537.600000000002 pgc[2,3,1] + 36220.799999999996 pgc[3,3,1] + 23872.8 pgc[4,3,1] + 26068 pgc[5,3,1] + 1372000 Lshed[3,1] + 18981 pge[1,4,1] + 18981 pge[2,4,1] + 29497.5 pge[3,4,1] + 29825.25 pge[4,4,1] + 37206.75 pge[5,4,1] + 14991 pge[6,4,1] + 14991 pge[7,4,1] + 8578.5 pge[8,4,1] + 7794.75 pge[9,4,1] + 9975 pge[10,4,1] + 14991 pge[11,4,1] + 15518.25 pge[12,4,1] + 16672.5 pgc[1,4,1] + 14820 pgc[2,4,1] + 18810 pgc[3,4,1] + 12397.499999999998 pgc[4,4,1] + 13537.5 pgc[5,4,1] + 712500 Lshed[4,1] + 90000 pcmax[1,1] + 105000 pcmax[2,1] + 60000 pcmax[3,1] + 180000 pcmax[4,1] + 142500 pcmax[5,1] + 28478.16 pge[1,1,2] + 28478.16 pge[2,1,2] + 44256.6 pge[3,1,2] + 44748.34 pge[4,1,2] + 55823.18 pge[5,1,2] + 22491.76 pge[6,1,2] + 22491.76 pge[7,1,2] + 12870.759999999998 pge[8,1,2] + 11694.859999999999 pge[9,1,2] + 14966 pge[10,1,2] + 22491.76 pge[11,1,2] + 23282.82 pge[12,1,2] + 25014.6 pgc[1,1,2] + 22235.2 pgc[2,1,2] + 28221.6 pgc[3,1,2] + 18600.6 pgc[4,1,2] + 20311 pgc[5,1,2] + 1069000 Lshed[1,2] + 32673.96 pge[1,2,2] + 32673.96 pge[2,2,2] + 50777.1 pge[3,2,2] + 51341.29 pge[4,2,2] + 64047.83 pge[5,2,2] + 25805.559999999998 pge[6,2,2] + 25805.559999999998 pge[7,2,2] + 14767.06 pge[8,2,2] + 13417.91 pge[9,2,2] + 17171 pge[10,2,2] + 25805.559999999998 pge[11,2,2] + 26713.170000000002 pge[12,2,2] + 28700.1 pgc[1,2,2] + 25511.2 pgc[2,2,2] + 32379.6 pgc[3,2,2] + 21341.1 pgc[4,2,2] + 23303.5 pgc[5,2,2] + 1226500 Lshed[2,2] + 36550.08 pge[1,3,2] + 36550.08 pge[2,3,2] + 56800.799999999996 pge[3,3,2] + 57431.92 pge[4,3,2] + 71645.84 pge[5,3,2] + 28866.879999999997 pge[6,3,2] + 28866.879999999997 pge[7,3,2] + 16518.879999999997 pge[8,3,2] + 15009.679999999998 pge[9,3,2] + 19208 pge[10,3,2] + 28866.879999999997 pge[11,3,2] + 29882.16 pge[12,3,2] + 32104.8 pgc[1,3,2] + 28537.600000000002 pgc[2,3,2] + 36220.799999999996 pgc[3,3,2] + 23872.8 pgc[4,3,2] + 26068 pgc[5,3,2] + 1372000 Lshed[3,2] + 18981 pge[1,4,2] + 18981 pge[2,4,2] + 29497.5 pge[3,4,2] + 29825.25 pge[4,4,2] + 37206.75 pge[5,4,2] + 14991 pge[6,4,2] + 14991 pge[7,4,2] + 8578.5 pge[8,4,2] + 7794.75 pge[9,4,2] + 9975 pge[10,4,2] + 14991 pge[11,4,2] + 15518.25 pge[12,4,2] + 16672.5 pgc[1,4,2] + 14820 pgc[2,4,2] + 18810 pgc[3,4,2] + 12397.499999999998 pgc[4,4,2] + 13537.5 pgc[5,4,2] + 712500 Lshed[4,2] + 60000 pcmax[1,2] + 70000 pcmax[2,2] + 40000 pcmax[3,2] + 120000 pcmax[4,2] + 95000 pcmax[5,2] + 28478.16 pge[1,1,3] + 28478.16 pge[2,1,3] + 44256.6 pge[3,1,3] + 44748.34 pge[4,1,3] + 55823.18 pge[5,1,3] + 22491.76 pge[6,1,3] + 22491.76 pge[7,1,3] + 12870.759999999998 pge[8,1,3] + 11694.859999999999 pge[9,1,3] + 14966 pge[10,1,3] + 22491.76 pge[11,1,3] + 23282.82 pge[12,1,3] + 25014.6 pgc[1,1,3] + 22235.2 pgc[2,1,3] + 28221.6 pgc[3,1,3] + 18600.6 pgc[4,1,3] + 20311 pgc[5,1,3] + 1069000 Lshed[1,3] + 32673.96 pge[1,2,3] + 32673.96 pge[2,2,3] + 50777.1 pge[3,2,3] + 51341.29 pge[4,2,3] + 64047.83 pge[5,2,3] + 25805.559999999998 pge[6,2,3] + 25805.559999999998 pge[7,2,3] + 14767.06 pge[8,2,3] + 13417.91 pge[9,2,3] + 17171 pge[10,2,3] + 25805.559999999998 pge[11,2,3] + 26713.170000000002 pge[12,2,3] + 28700.1 pgc[1,2,3] + 25511.2 pgc[2,2,3] + 32379.6 pgc[3,2,3] + 21341.1 pgc[4,2,3] + 23303.5 pgc[5,2,3] + 1226500 Lshed[2,3] + 36550.08 pge[1,3,3] + 36550.08 pge[2,3,3] + 56800.799999999996 pge[3,3,3] + 57431.92 pge[4,3,3] + 71645.84 pge[5,3,3] + 28866.879999999997 pge[6,3,3] + 28866.879999999997 pge[7,3,3] + 16518.879999999997 pge[8,3,3] + 15009.679999999998 pge[9,3,3] + 19208 pge[10,3,3] + 28866.879999999997 pge[11,3,3] + 29882.16 pge[12,3,3] + 32104.8 pgc[1,3,3] + 28537.600000000002 pgc[2,3,3] + 36220.799999999996 pgc[3,3,3] + 23872.8 pgc[4,3,3] + 26068 pgc[5,3,3] + 1372000 Lshed[3,3] + 18981 pge[1,4,3] + 18981 pge[2,4,3] + 29497.5 pge[3,4,3] + 29825.25 pge[4,4,3] + 37206.75 pge[5,4,3] + 14991 pge[6,4,3] + 14991 pge[7,4,3] + 8578.5 pge[8,4,3] + 7794.75 pge[9,4,3] + 9975 pge[10,4,3] + 14991 pge[11,4,3] + 15518.25 pge[12,4,3] + 16672.5 pgc[1,4,3] + 14820 pgc[2,4,3] + 18810 pgc[3,4,3] + 12397.499999999998 pgc[4,4,3] + 13537.5 pgc[5,4,3] + 712500 Lshed[4,3] + 300000 pcmax[1,3] + 350000 pcmax[2,3] + 200000 pcmax[3,3] + 600000 pcmax[4,3] + 475000 pcmax[5,3] + 28478.16 pge[1,1,4] + 28478.16 pge[2,1,4] + 44256.6 pge[3,1,4] + 44748.34 pge[4,1,4] + 55823.18 pge[5,1,4] + 22491.76 pge[6,1,4] + 22491.76 pge[7,1,4] + 12870.759999999998 pge[8,1,4] + 11694.859999999999 pge[9,1,4] + 14966 pge[10,1,4] + 22491.76 pge[11,1,4] + 23282.82 pge[12,1,4] + 25014.6 pgc[1,1,4] + 22235.2 pgc[2,1,4] + 28221.6 pgc[3,1,4] + 18600.6 pgc[4,1,4] + 20311 pgc[5,1,4] + 1069000 Lshed[1,4] + 32673.96 pge[1,2,4] + 32673.96 pge[2,2,4] + 50777.1 pge[3,2,4] + 51341.29 pge[4,2,4] + 64047.83 pge[5,2,4] + 25805.559999999998 pge[6,2,4] + 25805.559999999998 pge[7,2,4] + 14767.06 pge[8,2,4] + 13417.91 pge[9,2,4] + 17171 pge[10,2,4] + 25805.559999999998 pge[11,2,4] + 26713.170000000002 pge[12,2,4] + 28700.1 pgc[1,2,4] + 25511.2 pgc[2,2,4] + 32379.6 pgc[3,2,4] + 21341.1 pgc[4,2,4] + 23303.5 pgc[5,2,4] + 1226500 Lshed[2,4] + 36550.08 pge[1,3,4] + 36550.08 pge[2,3,4] + 56800.799999999996 pge[3,3,4] + 57431.92 pge[4,3,4] + 71645.84 pge[5,3,4] + 28866.879999999997 pge[6,3,4] + 28866.879999999997 pge[7,3,4] + 16518.879999999997 pge[8,3,4] + 15009.679999999998 pge[9,3,4] + 19208 pge[10,3,4] + 28866.879999999997 pge[11,3,4] + 29882.16 pge[12,3,4] + 32104.8 pgc[1,3,4] + 28537.600000000002 pgc[2,3,4] + 36220.799999999996 pgc[3,3,4] + 23872.8 pgc[4,3,4] + 26068 pgc[5,3,4] + 1372000 Lshed[3,4] + 18981 pge[1,4,4] + 18981 pge[2,4,4] + 29497.5 pge[3,4,4] + 29825.25 pge[4,4,4] + 37206.75 pge[5,4,4] + 14991 pge[6,4,4] + 14991 pge[7,4,4] + 8578.5 pge[8,4,4] + 7794.75 pge[9,4,4] + 9975 pge[10,4,4] + 14991 pge[11,4,4] + 15518.25 pge[12,4,4] + 16672.5 pgc[1,4,4] + 14820 pgc[2,4,4] + 18810 pgc[3,4,4] + 12397.499999999998 pgc[4,4,4] + 13537.5 pgc[5,4,4] + 712500 Lshed[4,4] + 18000 pcmax[1,4] + 21000 pcmax[2,4] + 12000 pcmax[3,4] + 36000 pcmax[4,4] + 28500 pcmax[5,4]"
      ]
     },
     "execution_count": 40,
     "metadata": {},
     "output_type": "execute_result"
    }
   ],
   "source": [
    "#Building the MILP Model (as explained in \"Investment in Electricity Generation and Transmission\", Conejo et al, Chapter 3.3.3)\n",
    "\n",
    "gep1 = Model(HiGHS.Optimizer)\n",
    "set_silent(gep1)\n",
    "\n",
    "@variables(gep1, begin\n",
    "        pge[g in G, o in O,t in T] >= 0\n",
    "        pgc[c in C,o in O,t in T] >= 0\n",
    "        pcmax[c in C,t in T] >= 0\n",
    "        λ[o in O,t in T] >= 0\n",
    "        uOp[c in C, q in Q,t in T], Bin\n",
    "        μ_emax[g in G, o in O,t in T] >= 0\n",
    "        μ_cmax[c in C, o in O, t in T] >= 0\n",
    "        zaux[c in C,q in Q, o in O, t in T]\n",
    "        zaux2[c in C, q in Q, o in O, t in T]\n",
    "        Lshed[o in O,t in T] >= 0\n",
    "end)\n",
    "\n",
    "@constraint(gep1, EQ7B[c in C,t in T], pcmax[c,t] == sum(uOp[c,q,t]*CandiData[c,q] for q in Q))\n",
    "\n",
    "@constraint(gep1, EQ7C[c in C,t in T], sum(uOp[c,:,t]) == 1)\n",
    "\n",
    "@constraint(gep1, EQ7E[o in O, t in T], sum(pge[g,o,t] for g in G) + sum(pgc[c,o,t] for c in C) + wp + Lshed[o,t] == pd[t][o])\n",
    "\n",
    "@constraint(gep1,EQ7F[g in G, o in O,t in T], pge[g,o,t] <= Emax[g])\n",
    "\n",
    "# -> power generation of candidate c cannot be higher than sum of installed capacities of present and past timesteps\n",
    "@constraint(gep1, EQ7G[c in C, o in O, t in T],pgc[c,o,t] <= sum(pcmax[c,1:t])) \n",
    "\n",
    "@constraint(gep1, EQ7H[g in G, o in O,t in T], Ec[g] - λ[o,t] + μ_emax[g,o,t] >= 0)\n",
    "\n",
    "@constraint(gep1, EQ7I[c in C, o in O, t in T], Cc[c] - λ[o,t] + μ_cmax[c,o,t] >= 0)\n",
    "\n",
    "@constraint(gep1, EQ7L[o in O,t in T], sum(Ec[g] * pge[g,o,t] for g in G) + sum(Cc[c] * pgc[c,o,t] for c in C) ==\n",
    "                λ[o,t] * pd[t][o] - sum(μ_emax[g,o,t] * Emax[g] for g in G) - sum(sum(zaux[c,q,o,t] for q in Q) for c in C ))\n",
    "\n",
    "@constraint(gep1, EQ7M[c in C, q in Q, o in O,t in T], zaux[c,q,o,t] == μ_cmax[c,o,t]* CandiData[c,q] - zaux2[c,q,o,t])\n",
    "\n",
    "@constraint(gep1, EQ7Na[c in C, q in Q, o in O, t in T], 0 <= zaux[c,q,o,t])\n",
    "\n",
    "@constraint(gep1, EQ7Nb[c in C, q in Q, o in O, t in T], zaux[c,q,o,t] <= uOp[c,q,t] * M)\n",
    "\n",
    "@constraint(gep1, EQ7Oa[c in C, q in Q, o in O, t in T], 0 <= zaux2[c,q,o,t])\n",
    "\n",
    "@constraint(gep1, EQ7Ob[c in C, q in Q, o in O, t in T], zaux2[c,q,o,t] <= (1-uOp[c,q,t]) * M)\n",
    "\n",
    "@objective(gep1, Min, sum(sum(ρ[o] * (sum(Ec[g]* pge[g,o,t] for g in G) + sum(Cc[c]*pgc[c,o,t] for c in C) + vLOL*Lshed[o,t]) for o in O) + sum(a[t] * Ic[c] * pcmax[c,t] for c in C) for t in T))"
   ]
  },
  {
   "cell_type": "code",
   "execution_count": 41,
   "metadata": {},
   "outputs": [
    {
     "data": {
      "text/plain": [
       "OPTIMAL::TerminationStatusCode = 1"
      ]
     },
     "execution_count": 41,
     "metadata": {},
     "output_type": "execute_result"
    }
   ],
   "source": [
    "optimize!(gep1)\n",
    "termination_status(gep1)"
   ]
  },
  {
   "cell_type": "code",
   "execution_count": 42,
   "metadata": {},
   "outputs": [
    {
     "data": {
      "text/plain": [
       "3-dimensional DenseAxisArray{Float64,3,...} with index sets:\n",
       "    Dimension 1, 1:5\n",
       "    Dimension 2, 1:4\n",
       "    Dimension 3, 1:4\n",
       "And data, a 5×4×4 Array{Float64, 3}:\n",
       "[:, :, 1] =\n",
       "   0.0    0.0    0.0    0.0\n",
       " 180.0  180.0  180.0  180.0\n",
       "   0.0    0.0  120.0  120.0\n",
       "   0.0    0.0    0.0    0.0\n",
       " 200.0  200.0  200.0  200.0\n",
       "\n",
       "[:, :, 2] =\n",
       "   0.0    0.0    0.0    0.0\n",
       " 360.0  360.0  360.0  360.0\n",
       "   0.0    0.0  120.0  120.0\n",
       "   0.0    0.0    0.0    0.0\n",
       " 200.0  200.0  200.0  200.0\n",
       "\n",
       "[:, :, 3] =\n",
       "   0.0    0.0    0.0    0.0\n",
       " 360.0  360.0  360.0  360.0\n",
       "   0.0    0.0  120.0  120.0\n",
       "   0.0    0.0    0.0    0.0\n",
       " 200.0  200.0  200.0  200.0\n",
       "\n",
       "[:, :, 4] =\n",
       "   0.0     0.0    0.0     0.0\n",
       " 333.24  450.0  450.0   450.0\n",
       "   0.0     0.0    3.74  120.0\n",
       "  -0.0    -0.0   -0.0    -0.0\n",
       " 500.0   500.0  500.0   500.0"
      ]
     },
     "execution_count": 42,
     "metadata": {},
     "output_type": "execute_result"
    }
   ],
   "source": [
    "value.(pgc)"
   ]
  },
  {
   "cell_type": "code",
   "execution_count": 33,
   "metadata": {},
   "outputs": [
    {
     "data": {
      "text/plain": [
       "3-dimensional DenseAxisArray{Float64,3,...} with index sets:\n",
       "    Dimension 1, 1:5\n",
       "    Dimension 2, 1:7\n",
       "    Dimension 3, 1:4\n",
       "And data, a 5×7×4 Array{Float64, 3}:\n",
       "[:, :, 1] =\n",
       " 1.0  0.0  0.0  0.0  0.0  0.0  0.0\n",
       " 1.0  0.0  0.0  0.0  0.0  0.0  0.0\n",
       " 0.0  0.0  0.0  0.0  0.0  1.0  0.0\n",
       " 1.0  0.0  0.0  0.0  0.0  0.0  0.0\n",
       " 1.0  0.0  0.0  0.0  0.0  0.0  0.0\n",
       "\n",
       "[:, :, 2] =\n",
       " 1.0  0.0  0.0  0.0  0.0  0.0  0.0\n",
       " 0.0  0.0  0.0  0.0  0.0  0.0  1.0\n",
       " 1.0  0.0  0.0  0.0  0.0  0.0  0.0\n",
       " 1.0  0.0  0.0  0.0  0.0  0.0  0.0\n",
       " 0.0  0.0  0.0  0.0  0.0  0.0  1.0\n",
       "\n",
       "[:, :, 3] =\n",
       " 1.0  0.0  0.0  0.0  0.0  0.0  0.0\n",
       " 1.0  0.0  0.0  0.0  0.0  0.0  0.0\n",
       " 1.0  0.0  0.0  0.0  0.0  0.0  0.0\n",
       " 1.0  0.0  0.0  0.0  0.0  0.0  0.0\n",
       " 1.0  0.0  0.0  0.0  0.0  0.0  0.0\n",
       "\n",
       "[:, :, 4] =\n",
       " 1.0   0.0  0.0  0.0   0.0  0.0  0.0\n",
       " 0.0   0.0  0.0  0.0  -0.0  1.0  0.0\n",
       " 1.0   0.0  0.0  0.0   0.0  0.0  0.0\n",
       " 1.0  -0.0  0.0  0.0   0.0  0.0  0.0\n",
       " 0.0   0.0  0.0  0.0   0.0  0.0  1.0"
      ]
     },
     "execution_count": 33,
     "metadata": {},
     "output_type": "execute_result"
    }
   ],
   "source": [
    "value.(uOp)"
   ]
  },
  {
   "cell_type": "code",
   "execution_count": 38,
   "metadata": {},
   "outputs": [
    {
     "data": {
      "text/plain": [
       "2-dimensional DenseAxisArray{Float64,2,...} with index sets:\n",
       "    Dimension 1, 1:5\n",
       "    Dimension 2, 1:4\n",
       "And data, a 5×4 Matrix{Float64}:\n",
       "   0.0    0.0  0.0    0.0\n",
       " 180.0  180.0  0.0   90.0\n",
       " 120.0    0.0  0.0    0.0\n",
       "   0.0    0.0  0.0    0.0\n",
       " 200.0    0.0  0.0  300.0"
      ]
     },
     "execution_count": 38,
     "metadata": {},
     "output_type": "execute_result"
    }
   ],
   "source": [
    "value.(pcmax)"
   ]
  }
 ],
 "metadata": {
  "kernelspec": {
   "display_name": "Julia 1.8.5",
   "language": "julia",
   "name": "julia-1.8"
  },
  "language_info": {
   "file_extension": ".jl",
   "mimetype": "application/julia",
   "name": "julia",
   "version": "1.8.5"
  },
  "orig_nbformat": 4
 },
 "nbformat": 4,
 "nbformat_minor": 2
}
